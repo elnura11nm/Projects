{
 "cells": [
  {
   "cell_type": "markdown",
   "metadata": {},
   "source": [
    "<h1>Elnura Nabigazinova</h1>"
   ]
  },
  {
   "cell_type": "code",
   "execution_count": 5,
   "metadata": {},
   "outputs": [],
   "source": [
    "import pandas as pd\n",
    "import sqlite3\n",
    "import timeit"
   ]
  },
  {
   "cell_type": "markdown",
   "metadata": {},
   "source": [
    "**import libraries pandas, sqlite, timeit**"
   ]
  },
  {
   "cell_type": "code",
   "execution_count": 6,
   "metadata": {},
   "outputs": [],
   "source": [
    "df = pd.read_excel('sdu_registration.xlsx', index_col=0)\n",
    "write_time = {}\n",
    "read_time = {}"
   ]
  },
  {
   "cell_type": "markdown",
   "metadata": {},
   "source": [
    "**create dataframe df which include the data from `sdu_registration.xlsx` and create write_time and read_time**"
   ]
  },
  {
   "cell_type": "code",
   "execution_count": 7,
   "metadata": {},
   "outputs": [],
   "source": [
    "conn = sqlite3.connect(\"database.sqlite\")\n",
    "start = timeit.default_timer()\n",
    "df.to_sql('data', con=conn, if_exists='replace')\n",
    "stop = timeit.default_timer()\n",
    "write_time['sql'] = stop-start"
   ]
  },
  {
   "cell_type": "code",
   "execution_count": 8,
   "metadata": {},
   "outputs": [],
   "source": [
    "start = timeit.default_timer()\n",
    "df.to_csv('file.csv')\n",
    "stop = timeit.default_timer()\n",
    "write_time['csv'] = stop-start"
   ]
  },
  {
   "cell_type": "code",
   "execution_count": 9,
   "metadata": {},
   "outputs": [],
   "source": [
    "start = timeit.default_timer()\n",
    "df.to_html('file.html')  \n",
    "stop = timeit.default_timer()\n",
    "write_time['html'] = stop-start"
   ]
  },
  {
   "cell_type": "code",
   "execution_count": 10,
   "metadata": {},
   "outputs": [],
   "source": [
    "start = timeit.default_timer()\n",
    "df.to_json('file.json')\n",
    "stop = timeit.default_timer()\n",
    "write_time['json'] = stop-start"
   ]
  },
  {
   "cell_type": "code",
   "execution_count": 11,
   "metadata": {},
   "outputs": [
    {
     "name": "stderr",
     "output_type": "stream",
     "text": [
      "C:\\Users\\Lenovo\\anaconda3\\lib\\site-packages\\pandas\\core\\generic.py:2505: PerformanceWarning: \n",
      "your performance may suffer as PyTables will pickle object types that it cannot\n",
      "map directly to c-types [inferred_type->mixed,key->block1_values] [items->Index(['EDU_LEVEL', 'CIPHER', 'SPECIALITY', 'EDU_LANG', 'TYPE', 'STUD_ID',\n",
      "       'DERS_KOD', 'COURSE_TITLE', 'TEACHER'],\n",
      "      dtype='object')]\n",
      "\n",
      "  encoding=encoding,\n"
     ]
    }
   ],
   "source": [
    "start = timeit.default_timer()\n",
    "df.to_hdf('file.h5', key='data')\n",
    "stop = timeit.default_timer()\n",
    "write_time['hdf'] = stop-start"
   ]
  },
  {
   "cell_type": "code",
   "execution_count": 12,
   "metadata": {},
   "outputs": [],
   "source": [
    "conn = sqlite3.connect(\"database.sqlite\")\n",
    "start = timeit.default_timer()\n",
    "pd.read_sql_query('select * from data', con=conn)\n",
    "stop = timeit.default_timer()\n",
    "read_time['sql'] = stop-start"
   ]
  },
  {
   "cell_type": "code",
   "execution_count": 13,
   "metadata": {},
   "outputs": [],
   "source": [
    "start = timeit.default_timer()\n",
    "pd.read_csv('file.csv')\n",
    "stop = timeit.default_timer()\n",
    "read_time['csv'] = stop-start"
   ]
  },
  {
   "cell_type": "code",
   "execution_count": 18,
   "metadata": {},
   "outputs": [],
   "source": [
    "start = timeit.default_timer()\n",
    "pd.read_html('file.html')  \n",
    "stop = timeit.default_timer()\n",
    "read_time['html'] = stop-start"
   ]
  },
  {
   "cell_type": "code",
   "execution_count": 15,
   "metadata": {},
   "outputs": [],
   "source": [
    "start = timeit.default_timer()\n",
    "pd.read_json('file.json')\n",
    "stop = timeit.default_timer()\n",
    "read_time['json'] = stop-start"
   ]
  },
  {
   "cell_type": "code",
   "execution_count": 16,
   "metadata": {},
   "outputs": [],
   "source": [
    "start = timeit.default_timer()\n",
    "pd.read_hdf('file.h5', key='data')\n",
    "stop = timeit.default_timer()\n",
    "read_time['hdf'] = stop-start"
   ]
  },
  {
   "cell_type": "markdown",
   "metadata": {},
   "source": [
    "**sql, csv, html, json and hdf write and read time from df dataframe**"
   ]
  },
  {
   "cell_type": "code",
   "execution_count": 19,
   "metadata": {},
   "outputs": [
    {
     "data": {
      "text/plain": [
       "<matplotlib.axes._subplots.AxesSubplot at 0x19f1b3c7ec8>"
      ]
     },
     "execution_count": 19,
     "metadata": {},
     "output_type": "execute_result"
    },
    {
     "data": {
      "image/png": "[encoded data removed]",
      "text/plain": [
       "<Figure size 432x288 with 1 Axes>"
      ]
     },
     "metadata": {
      "needs_background": "light"
     },
     "output_type": "display_data"
    }
   ],
   "source": [
    "time_df = pd.DataFrame([read_time, write_time])\n",
    "time_df = time_df.T\n",
    "time_df.columns = ['read','write']\n",
    "time_df.plot.bar()\n"
   ]
  },
  {
   "cell_type": "markdown",
   "metadata": {},
   "source": [
    "**time_df data frame includes read and write times from sql, csv, html, json and hdf formats**"
   ]
  }
 ],
 "metadata": {
  "kernelspec": {
   "display_name": "Python 3",
   "language": "python",
   "name": "python3"
  },
  "language_info": {
   "codemirror_mode": {
    "name": "ipython",
    "version": 3
   },
   "file_extension": ".py",
   "mimetype": "text/x-python",
   "name": "python",
   "nbconvert_exporter": "python",
   "pygments_lexer": "ipython3",
   "version": "3.7.6"
  }
 },
 "nbformat": 4,
 "nbformat_minor": 4
}
