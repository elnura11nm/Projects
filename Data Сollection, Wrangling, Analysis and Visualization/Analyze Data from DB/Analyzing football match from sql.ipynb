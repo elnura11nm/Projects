{
 "cells": [
  {
   "cell_type": "code",
   "execution_count": 1,
   "metadata": {},
   "outputs": [],
   "source": [
    "import sqlite3 #import sql lite for using import data\n",
    "import csv #import Comma-Separated Values package for export data"
   ]
  },
  {
   "cell_type": "code",
   "execution_count": 2,
   "metadata": {},
   "outputs": [],
   "source": [
    "conn = sqlite3.connect(\"database.sqlite\") #connect to sqllite and assign data from our database\n",
    "cursor = conn.cursor()"
   ]
  },
  {
   "cell_type": "code",
   "execution_count": 3,
   "metadata": {},
   "outputs": [],
   "source": [
    "with open('player_weight.csv', 'w', newline='') as f:\n",
    "    writer = csv.writer(f, delimiter=',', quotechar='\\n', quoting=csv.QUOTE_MINIMAL)\n",
    "    result = cursor.execute(\"\"\"select weight, count(*) from Player\n",
    "                               group by weight\n",
    "                               order by weight\"\"\") #query where select weight, count all rows from player table and qrouped and ordered by weight\n",
    "    id = 0\n",
    "    for row in result:\n",
    "        writer.writerow((id, row[0], row[1]))\n",
    "        id += 1\n",
    "#write to csv query  for player_weight "
   ]
  },
  {
   "cell_type": "code",
   "execution_count": 4,
   "metadata": {},
   "outputs": [],
   "source": [
    "with open('player_height.csv', 'w', newline='') as f:\n",
    "    writer = csv.writer(f, delimiter=',', quotechar='\\n', quoting=csv.QUOTE_MINIMAL)\n",
    "    result = cursor.execute(\"\"\"select height, count(*) from Player\n",
    "                               group by height\n",
    "                               order by height\"\"\") #query where select height, count all rows from player table and qrouped and ordered by height\n",
    "    id = 0\n",
    "    for row in result:\n",
    "        writer.writerow((id, row[0], row[1]))\n",
    "        id += 1\n",
    "#write to csv query for player_height  "
   ]
  },
  {
   "cell_type": "code",
   "execution_count": 5,
   "metadata": {},
   "outputs": [],
   "source": [
    "with open('team_home_matches.csv', 'w', newline='', encoding='utf-8') as f:\n",
    "    writer = csv.writer(f, delimiter=',', quotechar='\\n', quoting=csv.QUOTE_MINIMAL)\n",
    "    result = cursor.execute(\"\"\"select t.team_long_name, count(*) from Team t\n",
    "                               JOIN Match m on t.team_api_id = m.home_team_api_id\n",
    "                               GROUP BY t.team_api_id;\"\"\") #query where select team_long_name, count all from table Team and join with Match table\n",
    "    id = 0\n",
    "    for row in result:\n",
    "        writer.writerow((id, row[0], row[1]))\n",
    "        id += 1\n",
    "#write to csv query for team_home_matches"
   ]
  },
  {
   "cell_type": "code",
   "execution_count": null,
   "metadata": {},
   "outputs": [],
   "source": []
  }
 ],
 "metadata": {
  "kernelspec": {
   "display_name": "Python 3",
   "language": "python",
   "name": "python3"
  },
  "language_info": {
   "codemirror_mode": {
    "name": "ipython",
    "version": 3
   },
   "file_extension": ".py",
   "mimetype": "text/x-python",
   "name": "python",
   "nbconvert_exporter": "python",
   "pygments_lexer": "ipython3",
   "version": "3.7.4"
  }
 },
 "nbformat": 4,
 "nbformat_minor": 2
}
